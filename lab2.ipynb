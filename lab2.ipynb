{
  "nbformat": 4,
  "nbformat_minor": 0,
  "metadata": {
    "colab": {
      "name": "lab2.ipynb",
      "provenance": [],
      "collapsed_sections": [],
      "include_colab_link": true
    },
    "language_info": {
      "name": "python"
    },
    "kernelspec": {
      "name": "python3",
      "display_name": "Python 3"
    }
  },
  "cells": [
    {
      "cell_type": "markdown",
      "metadata": {
        "id": "view-in-github",
        "colab_type": "text"
      },
      "source": [
        "<a href=\"https://colab.research.google.com/github/meowkatya/lab2/blob/main/lab2.ipynb\" target=\"_parent\"><img src=\"https://colab.research.google.com/assets/colab-badge.svg\" alt=\"Open In Colab\"/></a>"
      ]
    },
    {
      "cell_type": "markdown",
      "metadata": {
        "id": "8n9K8NduQ4lI"
      },
      "source": [
        "## Прогнозирование цен на жилье с помощью нейросетевой регрессионной модели\n",
        "\n",
        "Необходимо по имеющимся данным о ценах на жильё предсказать окончательную цену каждого дома с учетом характеристик домов с использованием нейронной сети. Описание набора данных  содержит 80 классов (набор переменых) классификации оценки типа жилья, и находится в файле `data_description.txt`.\n",
        "\n",
        "В работе требуется дополнить раздел «Моделирование» в подразделе «Построение и обучение модели» создать и инициализировать последовательную модель нейронной сети с помощью фрэймворков тренировки нейронных сетей как: Torch или Tensorflow. Скомпилировать нейронную сеть выбрав функцию потерь и оптимизатор соответственно. Оценить точность полученных результатов. Вывести предсказанные данные о продаже. \n",
        "\n",
        "\n",
        "### Импорт библиотек\n",
        "Импортируем необходимые библиотеки:"
      ]
    },
    {
      "cell_type": "code",
      "metadata": {
        "id": "sLbQ2TVnQ4lO"
      },
      "source": [
        "# Импорт библиотек\n",
        "import numpy as np\n",
        "import pandas as pd\n",
        "import matplotlib.pyplot as plt\n",
        "import tensorflow as tf\n",
        "from tensorflow import keras\n",
        "from tensorflow.keras import layers\n",
        "from sklearn.model_selection import train_test_split"
      ],
      "execution_count": 22,
      "outputs": []
    },
    {
      "cell_type": "markdown",
      "metadata": {
        "id": "OVE0MPccQ4lR"
      },
      "source": [
        "### Считываем набор данных\n",
        "\n",
        "\n",
        "Загрузим набор данных и присвоим следующими переменные:\n",
        "\n",
        "* `train_data`: данные, используемые для обучения модели\n",
        "* `test_data`: данные, используемые для проверки модели"
      ]
    },
    {
      "cell_type": "code",
      "metadata": {
        "id": "wO0hfo89Q4lS"
      },
      "source": [
        "#Считываем набор данных\n",
        "train_data = pd.read_csv('/content/data/notebook_files/test.csv') \n",
        "test_data = pd.read_csv('/content/data/notebook_files/train.csv')"
      ],
      "execution_count": 23,
      "outputs": []
    },
    {
      "cell_type": "markdown",
      "metadata": {
        "id": "nvMeg2V-Q4lT"
      },
      "source": [
        "## Подготовка данных\n",
        "### Отобразим обучающие и проверочные данные:"
      ]
    },
    {
      "cell_type": "code",
      "metadata": {
        "colab": {
          "base_uri": "https://localhost:8080/"
        },
        "id": "ipG8vFanQ4lT",
        "outputId": "b53e9104-c3de-4e67-fe33-26464cd45dcd"
      },
      "source": [
        "#Отобразим обучающие и проверочные данные\n",
        "print(train_data.head())"
      ],
      "execution_count": 24,
      "outputs": [
        {
          "output_type": "stream",
          "name": "stdout",
          "text": [
            "   Id  MSSubClass MSZoning  ...  SaleType  SaleCondition SalePrice\n",
            "0   1          60       RL  ...        WD         Normal    208500\n",
            "1   2          20       RL  ...        WD         Normal    181500\n",
            "2   3          60       RL  ...        WD         Normal    223500\n",
            "3   4          70       RL  ...        WD        Abnorml    140000\n",
            "4   5          60       RL  ...        WD         Normal    250000\n",
            "\n",
            "[5 rows x 81 columns]\n"
          ]
        }
      ]
    },
    {
      "cell_type": "code",
      "metadata": {
        "colab": {
          "base_uri": "https://localhost:8080/"
        },
        "id": "k1zXJ_RsQ4lU",
        "outputId": "6f5484d3-5e0b-41f7-f510-44d0d6de2072"
      },
      "source": [
        "print(test_data.head())"
      ],
      "execution_count": 25,
      "outputs": [
        {
          "output_type": "stream",
          "name": "stdout",
          "text": [
            "     Id  MSSubClass MSZoning  ...  YrSold  SaleType SaleCondition\n",
            "0  1461          20       RH  ...    2010        WD        Normal\n",
            "1  1462          20       RL  ...    2010        WD        Normal\n",
            "2  1463          60       RL  ...    2010        WD        Normal\n",
            "3  1464          60       RL  ...    2010        WD        Normal\n",
            "4  1465         120       RL  ...    2010        WD        Normal\n",
            "\n",
            "[5 rows x 80 columns]\n"
          ]
        }
      ]
    },
    {
      "cell_type": "markdown",
      "metadata": {
        "id": "Q3DZ1lxiQ4lU"
      },
      "source": [
        "Как можно видеть, `train_data` имеет на один столбец больше, чем `test_data`, это столбец `SalePrice`, для обучения модели перед применением ее для предсказания меток в test_data."
      ]
    },
    {
      "cell_type": "markdown",
      "metadata": {
        "id": "ISByfPzgQ4lV"
      },
      "source": [
        "### Проверяем нет ли тестовые данные пустых значений значений (Nan)\n",
        "\n",
        "Построим функцию `def missing_value_checker` для проверки и подсчёта пропущеных значений в test_data. А также выведем тип данных этих значений.\n"
      ]
    },
    {
      "cell_type": "code",
      "metadata": {
        "colab": {
          "base_uri": "https://localhost:8080/"
        },
        "id": "DRuv9Cx5Q4lW",
        "outputId": "2fd17cb5-5d16-4aaf-ee12-45e6b4199559"
      },
      "source": [
        "# Построим функцию для проверки и подсчета пропущенных значений в test_data, выведем тип данных этих значений\n",
        "def missing_value_checker(data):\n",
        "    list = []\n",
        "    for feature, content in data.items():\n",
        "        if data[feature].isnull().values.any():\n",
        "            \n",
        "            sum = data[feature].isna().sum()\n",
        "\n",
        "            type = data[feature].dtype\n",
        "\n",
        "            print (f'{feature}: {sum}, type: {type}')\n",
        "            \n",
        "            list.append(feature)\n",
        "    print(list)\n",
        "\n",
        "    print(len(list))\n",
        "\n",
        "missing_value_checker(test_data)"
      ],
      "execution_count": 26,
      "outputs": [
        {
          "output_type": "stream",
          "name": "stdout",
          "text": [
            "MSZoning: 4, type: object\n",
            "LotFrontage: 227, type: float64\n",
            "Alley: 1352, type: object\n",
            "Utilities: 2, type: object\n",
            "Exterior1st: 1, type: object\n",
            "Exterior2nd: 1, type: object\n",
            "MasVnrType: 16, type: object\n",
            "MasVnrArea: 15, type: float64\n",
            "BsmtQual: 44, type: object\n",
            "BsmtCond: 45, type: object\n",
            "BsmtExposure: 44, type: object\n",
            "BsmtFinType1: 42, type: object\n",
            "BsmtFinSF1: 1, type: float64\n",
            "BsmtFinType2: 42, type: object\n",
            "BsmtFinSF2: 1, type: float64\n",
            "BsmtUnfSF: 1, type: float64\n",
            "TotalBsmtSF: 1, type: float64\n",
            "BsmtFullBath: 2, type: float64\n",
            "BsmtHalfBath: 2, type: float64\n",
            "KitchenQual: 1, type: object\n",
            "Functional: 2, type: object\n",
            "FireplaceQu: 730, type: object\n",
            "GarageType: 76, type: object\n",
            "GarageYrBlt: 78, type: float64\n",
            "GarageFinish: 78, type: object\n",
            "GarageCars: 1, type: float64\n",
            "GarageArea: 1, type: float64\n",
            "GarageQual: 78, type: object\n",
            "GarageCond: 78, type: object\n",
            "PoolQC: 1456, type: object\n",
            "Fence: 1169, type: object\n",
            "MiscFeature: 1408, type: object\n",
            "SaleType: 1, type: object\n",
            "['MSZoning', 'LotFrontage', 'Alley', 'Utilities', 'Exterior1st', 'Exterior2nd', 'MasVnrType', 'MasVnrArea', 'BsmtQual', 'BsmtCond', 'BsmtExposure', 'BsmtFinType1', 'BsmtFinSF1', 'BsmtFinType2', 'BsmtFinSF2', 'BsmtUnfSF', 'TotalBsmtSF', 'BsmtFullBath', 'BsmtHalfBath', 'KitchenQual', 'Functional', 'FireplaceQu', 'GarageType', 'GarageYrBlt', 'GarageFinish', 'GarageCars', 'GarageArea', 'GarageQual', 'GarageCond', 'PoolQC', 'Fence', 'MiscFeature', 'SaleType']\n",
            "33\n"
          ]
        }
      ]
    },
    {
      "cell_type": "markdown",
      "metadata": {
        "id": "xXX0tJI8Q4lX"
      },
      "source": [
        "Проверяем какие признаки в таблице можно оставить, а какие удалить. Если пропущенных значений слишком много, то удалим признак. Если их небольшое количество, то заполним `mean` или `median` для чисел, новая категория `missing` для строковых объектов.\n",
        "\n",
        "В соответствии с этим:\n",
        "\n",
        "– удалим ['Alley', 'FireplaceQu', 'PoolQC', 'Fence', 'MiscFeature'];\n",
        "\n",
        "– заполним числовое отсутствующее значение значением `mean`;\n",
        "\n",
        "– заполним строковое отсутствующее значение значением `missing`."
      ]
    },
    {
      "cell_type": "code",
      "metadata": {
        "id": "fG2OO8mjQ4lY"
      },
      "source": [
        "# удалим ['Alley', 'FireplaceQu', 'PoolQC', 'Fence', 'MiscFeature']\n",
        "test_edited = test_data.drop(['Alley','FireplaceQu','PoolQC', 'Fence', 'MiscFeature'], axis=1)\n",
        "train_edited = train_data.drop(['Alley','FireplaceQu','PoolQC', 'Fence', 'MiscFeature'], axis=1)\n",
        "# заполним числовое отсутствующее значение значением mean/ median, а строковое значением missing\n",
        "def nan_filler(data):\n",
        "    for label, content in data.items():\n",
        "        if pd.api.types.is_numeric_dtype(content):\n",
        "            data[label] = content.fillna(content.median())\n",
        "        else:\n",
        "            data[label] = content.astype(\"category\").cat.as_ordered()\n",
        "            data[label] = pd.Categorical(content).codes+1\n",
        "\n",
        "nan_filler(test_edited)\n",
        "nan_filler(train_edited)"
      ],
      "execution_count": 27,
      "outputs": []
    },
    {
      "cell_type": "markdown",
      "metadata": {
        "id": "DbdVt8d0Q4lZ"
      },
      "source": [
        "### Перепроверим наши данные:"
      ]
    },
    {
      "cell_type": "code",
      "metadata": {
        "colab": {
          "base_uri": "https://localhost:8080/"
        },
        "id": "iu7KqyRgQ4lZ",
        "outputId": "db42a02f-466a-4366-c51d-9b95eedadfd4"
      },
      "source": [
        "# Перепроверим данные\n",
        "missing_value_checker(test_edited)"
      ],
      "execution_count": 28,
      "outputs": [
        {
          "output_type": "stream",
          "name": "stdout",
          "text": [
            "[]\n",
            "0\n"
          ]
        }
      ]
    },
    {
      "cell_type": "code",
      "metadata": {
        "colab": {
          "base_uri": "https://localhost:8080/"
        },
        "id": "9Bh35P_hQ4la",
        "outputId": "b65f4cab-d5f6-4d84-d4c6-8b7c7ddc396f"
      },
      "source": [
        "missing_value_checker(train_edited)"
      ],
      "execution_count": 29,
      "outputs": [
        {
          "output_type": "stream",
          "name": "stdout",
          "text": [
            "[]\n",
            "0\n"
          ]
        }
      ]
    },
    {
      "cell_type": "code",
      "metadata": {
        "colab": {
          "base_uri": "https://localhost:8080/"
        },
        "id": "yrUaiRAtQ4la",
        "outputId": "d0263192-a364-4e57-81e2-d91030bf4a76"
      },
      "source": [
        "train_edited.shape, test_edited.shape"
      ],
      "execution_count": 30,
      "outputs": [
        {
          "output_type": "execute_result",
          "data": {
            "text/plain": [
              "((1460, 76), (1459, 75))"
            ]
          },
          "metadata": {},
          "execution_count": 30
        }
      ]
    },
    {
      "cell_type": "code",
      "metadata": {
        "colab": {
          "base_uri": "https://localhost:8080/"
        },
        "id": "7cg3mZ04Q4lb",
        "outputId": "2af0f8aa-e0b2-4600-a66f-f9c927d70adf"
      },
      "source": [
        "test_edited.info()"
      ],
      "execution_count": 31,
      "outputs": [
        {
          "output_type": "stream",
          "name": "stdout",
          "text": [
            "<class 'pandas.core.frame.DataFrame'>\n",
            "RangeIndex: 1459 entries, 0 to 1458\n",
            "Data columns (total 75 columns):\n",
            " #   Column         Non-Null Count  Dtype  \n",
            "---  ------         --------------  -----  \n",
            " 0   Id             1459 non-null   int64  \n",
            " 1   MSSubClass     1459 non-null   int64  \n",
            " 2   MSZoning       1459 non-null   int8   \n",
            " 3   LotFrontage    1459 non-null   float64\n",
            " 4   LotArea        1459 non-null   int64  \n",
            " 5   Street         1459 non-null   int8   \n",
            " 6   LotShape       1459 non-null   int8   \n",
            " 7   LandContour    1459 non-null   int8   \n",
            " 8   Utilities      1459 non-null   int8   \n",
            " 9   LotConfig      1459 non-null   int8   \n",
            " 10  LandSlope      1459 non-null   int8   \n",
            " 11  Neighborhood   1459 non-null   int8   \n",
            " 12  Condition1     1459 non-null   int8   \n",
            " 13  Condition2     1459 non-null   int8   \n",
            " 14  BldgType       1459 non-null   int8   \n",
            " 15  HouseStyle     1459 non-null   int8   \n",
            " 16  OverallQual    1459 non-null   int64  \n",
            " 17  OverallCond    1459 non-null   int64  \n",
            " 18  YearBuilt      1459 non-null   int64  \n",
            " 19  YearRemodAdd   1459 non-null   int64  \n",
            " 20  RoofStyle      1459 non-null   int8   \n",
            " 21  RoofMatl       1459 non-null   int8   \n",
            " 22  Exterior1st    1459 non-null   int8   \n",
            " 23  Exterior2nd    1459 non-null   int8   \n",
            " 24  MasVnrType     1459 non-null   int8   \n",
            " 25  MasVnrArea     1459 non-null   float64\n",
            " 26  ExterQual      1459 non-null   int8   \n",
            " 27  ExterCond      1459 non-null   int8   \n",
            " 28  Foundation     1459 non-null   int8   \n",
            " 29  BsmtQual       1459 non-null   int8   \n",
            " 30  BsmtCond       1459 non-null   int8   \n",
            " 31  BsmtExposure   1459 non-null   int8   \n",
            " 32  BsmtFinType1   1459 non-null   int8   \n",
            " 33  BsmtFinSF1     1459 non-null   float64\n",
            " 34  BsmtFinType2   1459 non-null   int8   \n",
            " 35  BsmtFinSF2     1459 non-null   float64\n",
            " 36  BsmtUnfSF      1459 non-null   float64\n",
            " 37  TotalBsmtSF    1459 non-null   float64\n",
            " 38  Heating        1459 non-null   int8   \n",
            " 39  HeatingQC      1459 non-null   int8   \n",
            " 40  CentralAir     1459 non-null   int8   \n",
            " 41  Electrical     1459 non-null   int8   \n",
            " 42  1stFlrSF       1459 non-null   int64  \n",
            " 43  2ndFlrSF       1459 non-null   int64  \n",
            " 44  LowQualFinSF   1459 non-null   int64  \n",
            " 45  GrLivArea      1459 non-null   int64  \n",
            " 46  BsmtFullBath   1459 non-null   float64\n",
            " 47  BsmtHalfBath   1459 non-null   float64\n",
            " 48  FullBath       1459 non-null   int64  \n",
            " 49  HalfBath       1459 non-null   int64  \n",
            " 50  BedroomAbvGr   1459 non-null   int64  \n",
            " 51  KitchenAbvGr   1459 non-null   int64  \n",
            " 52  KitchenQual    1459 non-null   int8   \n",
            " 53  TotRmsAbvGrd   1459 non-null   int64  \n",
            " 54  Functional     1459 non-null   int8   \n",
            " 55  Fireplaces     1459 non-null   int64  \n",
            " 56  GarageType     1459 non-null   int8   \n",
            " 57  GarageYrBlt    1459 non-null   float64\n",
            " 58  GarageFinish   1459 non-null   int8   \n",
            " 59  GarageCars     1459 non-null   float64\n",
            " 60  GarageArea     1459 non-null   float64\n",
            " 61  GarageQual     1459 non-null   int8   \n",
            " 62  GarageCond     1459 non-null   int8   \n",
            " 63  PavedDrive     1459 non-null   int8   \n",
            " 64  WoodDeckSF     1459 non-null   int64  \n",
            " 65  OpenPorchSF    1459 non-null   int64  \n",
            " 66  EnclosedPorch  1459 non-null   int64  \n",
            " 67  3SsnPorch      1459 non-null   int64  \n",
            " 68  ScreenPorch    1459 non-null   int64  \n",
            " 69  PoolArea       1459 non-null   int64  \n",
            " 70  MiscVal        1459 non-null   int64  \n",
            " 71  MoSold         1459 non-null   int64  \n",
            " 72  YrSold         1459 non-null   int64  \n",
            " 73  SaleType       1459 non-null   int8   \n",
            " 74  SaleCondition  1459 non-null   int8   \n",
            "dtypes: float64(11), int64(26), int8(38)\n",
            "memory usage: 476.0 KB\n"
          ]
        }
      ]
    },
    {
      "cell_type": "code",
      "metadata": {
        "colab": {
          "base_uri": "https://localhost:8080/"
        },
        "id": "zIufRaGSQ4lc",
        "outputId": "25ee34e9-5563-491e-921b-c949cc322b12"
      },
      "source": [
        "train_edited.info()"
      ],
      "execution_count": 32,
      "outputs": [
        {
          "output_type": "stream",
          "name": "stdout",
          "text": [
            "<class 'pandas.core.frame.DataFrame'>\n",
            "RangeIndex: 1460 entries, 0 to 1459\n",
            "Data columns (total 76 columns):\n",
            " #   Column         Non-Null Count  Dtype  \n",
            "---  ------         --------------  -----  \n",
            " 0   Id             1460 non-null   int64  \n",
            " 1   MSSubClass     1460 non-null   int64  \n",
            " 2   MSZoning       1460 non-null   int8   \n",
            " 3   LotFrontage    1460 non-null   float64\n",
            " 4   LotArea        1460 non-null   int64  \n",
            " 5   Street         1460 non-null   int8   \n",
            " 6   LotShape       1460 non-null   int8   \n",
            " 7   LandContour    1460 non-null   int8   \n",
            " 8   Utilities      1460 non-null   int8   \n",
            " 9   LotConfig      1460 non-null   int8   \n",
            " 10  LandSlope      1460 non-null   int8   \n",
            " 11  Neighborhood   1460 non-null   int8   \n",
            " 12  Condition1     1460 non-null   int8   \n",
            " 13  Condition2     1460 non-null   int8   \n",
            " 14  BldgType       1460 non-null   int8   \n",
            " 15  HouseStyle     1460 non-null   int8   \n",
            " 16  OverallQual    1460 non-null   int64  \n",
            " 17  OverallCond    1460 non-null   int64  \n",
            " 18  YearBuilt      1460 non-null   int64  \n",
            " 19  YearRemodAdd   1460 non-null   int64  \n",
            " 20  RoofStyle      1460 non-null   int8   \n",
            " 21  RoofMatl       1460 non-null   int8   \n",
            " 22  Exterior1st    1460 non-null   int8   \n",
            " 23  Exterior2nd    1460 non-null   int8   \n",
            " 24  MasVnrType     1460 non-null   int8   \n",
            " 25  MasVnrArea     1460 non-null   float64\n",
            " 26  ExterQual      1460 non-null   int8   \n",
            " 27  ExterCond      1460 non-null   int8   \n",
            " 28  Foundation     1460 non-null   int8   \n",
            " 29  BsmtQual       1460 non-null   int8   \n",
            " 30  BsmtCond       1460 non-null   int8   \n",
            " 31  BsmtExposure   1460 non-null   int8   \n",
            " 32  BsmtFinType1   1460 non-null   int8   \n",
            " 33  BsmtFinSF1     1460 non-null   int64  \n",
            " 34  BsmtFinType2   1460 non-null   int8   \n",
            " 35  BsmtFinSF2     1460 non-null   int64  \n",
            " 36  BsmtUnfSF      1460 non-null   int64  \n",
            " 37  TotalBsmtSF    1460 non-null   int64  \n",
            " 38  Heating        1460 non-null   int8   \n",
            " 39  HeatingQC      1460 non-null   int8   \n",
            " 40  CentralAir     1460 non-null   int8   \n",
            " 41  Electrical     1460 non-null   int8   \n",
            " 42  1stFlrSF       1460 non-null   int64  \n",
            " 43  2ndFlrSF       1460 non-null   int64  \n",
            " 44  LowQualFinSF   1460 non-null   int64  \n",
            " 45  GrLivArea      1460 non-null   int64  \n",
            " 46  BsmtFullBath   1460 non-null   int64  \n",
            " 47  BsmtHalfBath   1460 non-null   int64  \n",
            " 48  FullBath       1460 non-null   int64  \n",
            " 49  HalfBath       1460 non-null   int64  \n",
            " 50  BedroomAbvGr   1460 non-null   int64  \n",
            " 51  KitchenAbvGr   1460 non-null   int64  \n",
            " 52  KitchenQual    1460 non-null   int8   \n",
            " 53  TotRmsAbvGrd   1460 non-null   int64  \n",
            " 54  Functional     1460 non-null   int8   \n",
            " 55  Fireplaces     1460 non-null   int64  \n",
            " 56  GarageType     1460 non-null   int8   \n",
            " 57  GarageYrBlt    1460 non-null   float64\n",
            " 58  GarageFinish   1460 non-null   int8   \n",
            " 59  GarageCars     1460 non-null   int64  \n",
            " 60  GarageArea     1460 non-null   int64  \n",
            " 61  GarageQual     1460 non-null   int8   \n",
            " 62  GarageCond     1460 non-null   int8   \n",
            " 63  PavedDrive     1460 non-null   int8   \n",
            " 64  WoodDeckSF     1460 non-null   int64  \n",
            " 65  OpenPorchSF    1460 non-null   int64  \n",
            " 66  EnclosedPorch  1460 non-null   int64  \n",
            " 67  3SsnPorch      1460 non-null   int64  \n",
            " 68  ScreenPorch    1460 non-null   int64  \n",
            " 69  PoolArea       1460 non-null   int64  \n",
            " 70  MiscVal        1460 non-null   int64  \n",
            " 71  MoSold         1460 non-null   int64  \n",
            " 72  YrSold         1460 non-null   int64  \n",
            " 73  SaleType       1460 non-null   int8   \n",
            " 74  SaleCondition  1460 non-null   int8   \n",
            " 75  SalePrice      1460 non-null   int64  \n",
            "dtypes: float64(3), int64(35), int8(38)\n",
            "memory usage: 487.7 KB\n"
          ]
        }
      ]
    },
    {
      "cell_type": "markdown",
      "metadata": {
        "id": "yUnAQtXzQ4lc"
      },
      "source": [
        "### Разделим данные\n",
        "\n",
        "Поскольку мы не знаем метку (Цена) тестовых данных, для оценки модели, чтобы получить лучшую модель перед прогнозированием тестовых данных, разделим данные в файле train.scv на обучающие и проверочные данные, соотношение составляет 20%."
      ]
    },
    {
      "cell_type": "code",
      "metadata": {
        "id": "eKJl0zfeQ4ld"
      },
      "source": [
        "# Разделим данные в файле train.scv на обучающие и проверочные с соотношением 20%\n",
        "X = train_edited.drop('SalePrice', axis=1)\n",
        "y = train_edited['SalePrice']\n",
        "\n",
        "X_train, X_val, y_train, y_val = train_test_split(X, y, test_size = 0.2)\n"
      ],
      "execution_count": 33,
      "outputs": []
    },
    {
      "cell_type": "code",
      "metadata": {
        "colab": {
          "base_uri": "https://localhost:8080/"
        },
        "id": "VTrwV--EQ4le",
        "outputId": "a6aa2c90-6e58-4e86-dafd-f7256ee16d02"
      },
      "source": [
        "X_train.shape, test_edited.shape"
      ],
      "execution_count": 34,
      "outputs": [
        {
          "output_type": "execute_result",
          "data": {
            "text/plain": [
              "((1168, 75), (1459, 75))"
            ]
          },
          "metadata": {},
          "execution_count": 34
        }
      ]
    },
    {
      "cell_type": "markdown",
      "metadata": {
        "id": "QNaHH0kWQ4lf"
      },
      "source": [
        "## Моделирование"
      ]
    },
    {
      "cell_type": "markdown",
      "metadata": {
        "id": "E-vMK08lQ4lf"
      },
      "source": [
        "### Построение и обучение модели"
      ]
    },
    {
      "cell_type": "markdown",
      "metadata": {
        "id": "NYDVctDUQ4lg"
      },
      "source": [
        "\n",
        "Создайте последовательную модель нейронной сети с помощью фрэймворков тренировки нейронных сетей как: Torch или Tensorflow. "
      ]
    },
    {
      "cell_type": "code",
      "metadata": {
        "id": "JQF0TvHYQ4lg"
      },
      "source": [
        "# Создание последовательной модели нейронной сети \n",
        "model = keras.Sequential([\n",
        "    layers.Dense(150, activation='relu'),\n",
        "    layers.Dense(100, activation='relu'),\n",
        "    layers.Dense(1)\n",
        "])"
      ],
      "execution_count": 35,
      "outputs": []
    },
    {
      "cell_type": "markdown",
      "metadata": {
        "id": "tmKTpTZ4Q4lh"
      },
      "source": [
        "Скомпилируйте нейронную сеть, выбрав функцию потерь и оптимизатор соответственно."
      ]
    },
    {
      "cell_type": "code",
      "metadata": {
        "id": "UajojdHGQ4lh"
      },
      "source": [
        "# Скомпилировали нейронную сеть, выбрав функцию потерь и оптимизатор\n",
        "model.compile(loss='mean_squared_error', optimizer=tf.keras.optimizers.Adam(0.01), metrics=['mae'])"
      ],
      "execution_count": 36,
      "outputs": []
    },
    {
      "cell_type": "markdown",
      "metadata": {
        "id": "LJa08dpHQ4lh"
      },
      "source": [
        "Обучите модель на обучающих данных `X_train` и `y_train` задав гиперпараметры вашей модели нейронной сети, например количество эпох (epochs), размер мини-выборки (batch_size) и другие."
      ]
    },
    {
      "cell_type": "code",
      "metadata": {
        "id": "IyxsL5-uQ4li",
        "colab": {
          "base_uri": "https://localhost:8080/"
        },
        "outputId": "f4626228-3637-4b51-8108-1628411e561c"
      },
      "source": [
        "# Обучили модель, задав гиперпараметры (количество эпох, размер мини - выборки)\n",
        "history = model.fit(X, y, validation_split=0.2, verbose=1, epochs=40, batch_size=100)"
      ],
      "execution_count": 37,
      "outputs": [
        {
          "output_type": "stream",
          "name": "stdout",
          "text": [
            "Epoch 1/40\n",
            "12/12 [==============================] - 1s 23ms/step - loss: 28089239552.0000 - mae: 119328.0547 - val_loss: 12745383936.0000 - val_mae: 80487.0391\n",
            "Epoch 2/40\n",
            "12/12 [==============================] - 0s 6ms/step - loss: 11643934720.0000 - mae: 61977.5742 - val_loss: 7608565248.0000 - val_mae: 59207.3164\n",
            "Epoch 3/40\n",
            "12/12 [==============================] - 0s 6ms/step - loss: 5962331136.0000 - mae: 51213.5469 - val_loss: 5608389120.0000 - val_mae: 56106.8281\n",
            "Epoch 4/40\n",
            "12/12 [==============================] - 0s 5ms/step - loss: 4183126016.0000 - mae: 43130.2344 - val_loss: 4175113216.0000 - val_mae: 41597.7656\n",
            "Epoch 5/40\n",
            "12/12 [==============================] - 0s 5ms/step - loss: 3363517952.0000 - mae: 40871.4844 - val_loss: 4224396800.0000 - val_mae: 47483.7734\n",
            "Epoch 6/40\n",
            "12/12 [==============================] - 0s 4ms/step - loss: 2979964928.0000 - mae: 38966.8867 - val_loss: 3658123008.0000 - val_mae: 38979.8711\n",
            "Epoch 7/40\n",
            "12/12 [==============================] - 0s 5ms/step - loss: 2724067072.0000 - mae: 36962.8906 - val_loss: 3583706368.0000 - val_mae: 39244.8359\n",
            "Epoch 8/40\n",
            "12/12 [==============================] - 0s 5ms/step - loss: 2379707136.0000 - mae: 33391.5547 - val_loss: 3576465152.0000 - val_mae: 37945.8594\n",
            "Epoch 9/40\n",
            "12/12 [==============================] - 0s 5ms/step - loss: 2102675456.0000 - mae: 31717.5371 - val_loss: 3285968640.0000 - val_mae: 31856.8008\n",
            "Epoch 10/40\n",
            "12/12 [==============================] - 0s 5ms/step - loss: 1825873408.0000 - mae: 28988.3867 - val_loss: 3391832320.0000 - val_mae: 30642.5078\n",
            "Epoch 11/40\n",
            "12/12 [==============================] - 0s 4ms/step - loss: 1691549184.0000 - mae: 27227.2207 - val_loss: 3599800576.0000 - val_mae: 30416.9863\n",
            "Epoch 12/40\n",
            "12/12 [==============================] - 0s 6ms/step - loss: 1647266048.0000 - mae: 27063.3398 - val_loss: 3820918016.0000 - val_mae: 30921.0215\n",
            "Epoch 13/40\n",
            "12/12 [==============================] - 0s 7ms/step - loss: 1626913792.0000 - mae: 27166.6328 - val_loss: 3690390784.0000 - val_mae: 29971.7461\n",
            "Epoch 14/40\n",
            "12/12 [==============================] - 0s 5ms/step - loss: 1580803072.0000 - mae: 26450.4785 - val_loss: 3714400000.0000 - val_mae: 30249.8262\n",
            "Epoch 15/40\n",
            "12/12 [==============================] - 0s 5ms/step - loss: 1564720768.0000 - mae: 26002.6230 - val_loss: 3923447296.0000 - val_mae: 30243.1582\n",
            "Epoch 16/40\n",
            "12/12 [==============================] - 0s 5ms/step - loss: 1533797760.0000 - mae: 25803.1035 - val_loss: 3889780992.0000 - val_mae: 29828.1855\n",
            "Epoch 17/40\n",
            "12/12 [==============================] - 0s 5ms/step - loss: 1500566528.0000 - mae: 25448.2891 - val_loss: 3745713408.0000 - val_mae: 29666.0098\n",
            "Epoch 18/40\n",
            "12/12 [==============================] - 0s 5ms/step - loss: 1518773632.0000 - mae: 25475.5352 - val_loss: 3795179008.0000 - val_mae: 29688.1719\n",
            "Epoch 19/40\n",
            "12/12 [==============================] - 0s 5ms/step - loss: 1483365632.0000 - mae: 25224.2344 - val_loss: 3798037504.0000 - val_mae: 29503.8398\n",
            "Epoch 20/40\n",
            "12/12 [==============================] - 0s 7ms/step - loss: 1514013696.0000 - mae: 25757.1543 - val_loss: 3934960896.0000 - val_mae: 29792.6855\n",
            "Epoch 21/40\n",
            "12/12 [==============================] - 0s 5ms/step - loss: 1538977920.0000 - mae: 25632.0840 - val_loss: 4012551936.0000 - val_mae: 29624.7715\n",
            "Epoch 22/40\n",
            "12/12 [==============================] - 0s 5ms/step - loss: 1526640896.0000 - mae: 25703.0078 - val_loss: 3920491008.0000 - val_mae: 29896.4043\n",
            "Epoch 23/40\n",
            "12/12 [==============================] - 0s 6ms/step - loss: 1491776512.0000 - mae: 25293.1641 - val_loss: 3949613568.0000 - val_mae: 29827.1738\n",
            "Epoch 24/40\n",
            "12/12 [==============================] - 0s 5ms/step - loss: 1495689600.0000 - mae: 25903.9570 - val_loss: 4292908800.0000 - val_mae: 32192.6582\n",
            "Epoch 25/40\n",
            "12/12 [==============================] - 0s 5ms/step - loss: 1530441728.0000 - mae: 26016.1777 - val_loss: 3878722048.0000 - val_mae: 29232.0215\n",
            "Epoch 26/40\n",
            "12/12 [==============================] - 0s 5ms/step - loss: 1437369472.0000 - mae: 24551.6445 - val_loss: 3910780928.0000 - val_mae: 29096.5137\n",
            "Epoch 27/40\n",
            "12/12 [==============================] - 0s 6ms/step - loss: 1474378880.0000 - mae: 25023.3281 - val_loss: 4066756096.0000 - val_mae: 29841.2812\n",
            "Epoch 28/40\n",
            "12/12 [==============================] - 0s 6ms/step - loss: 1477002624.0000 - mae: 25564.5918 - val_loss: 4359685632.0000 - val_mae: 31612.4492\n",
            "Epoch 29/40\n",
            "12/12 [==============================] - 0s 5ms/step - loss: 1477305728.0000 - mae: 25108.1641 - val_loss: 3996814336.0000 - val_mae: 29021.0410\n",
            "Epoch 30/40\n",
            "12/12 [==============================] - 0s 5ms/step - loss: 1453545984.0000 - mae: 24576.5449 - val_loss: 3704933632.0000 - val_mae: 29860.0273\n",
            "Epoch 31/40\n",
            "12/12 [==============================] - 0s 5ms/step - loss: 1523376896.0000 - mae: 25528.2520 - val_loss: 3732184064.0000 - val_mae: 28858.7910\n",
            "Epoch 32/40\n",
            "12/12 [==============================] - 0s 5ms/step - loss: 1435191808.0000 - mae: 24972.4551 - val_loss: 3951741440.0000 - val_mae: 29610.4004\n",
            "Epoch 33/40\n",
            "12/12 [==============================] - 0s 5ms/step - loss: 1405341952.0000 - mae: 24178.3008 - val_loss: 3883400704.0000 - val_mae: 28882.3047\n",
            "Epoch 34/40\n",
            "12/12 [==============================] - 0s 6ms/step - loss: 1406793856.0000 - mae: 24344.1543 - val_loss: 3657779968.0000 - val_mae: 29040.6055\n",
            "Epoch 35/40\n",
            "12/12 [==============================] - 0s 5ms/step - loss: 1396269440.0000 - mae: 24330.9570 - val_loss: 3819964160.0000 - val_mae: 28956.0352\n",
            "Epoch 36/40\n",
            "12/12 [==============================] - 0s 6ms/step - loss: 1373898752.0000 - mae: 24223.8086 - val_loss: 3727380992.0000 - val_mae: 30692.2090\n",
            "Epoch 37/40\n",
            "12/12 [==============================] - 0s 6ms/step - loss: 1477303168.0000 - mae: 25009.0000 - val_loss: 3590733824.0000 - val_mae: 29616.2715\n",
            "Epoch 38/40\n",
            "12/12 [==============================] - 0s 6ms/step - loss: 1446130560.0000 - mae: 24834.5859 - val_loss: 3623953152.0000 - val_mae: 29525.4590\n",
            "Epoch 39/40\n",
            "12/12 [==============================] - 0s 7ms/step - loss: 1439126400.0000 - mae: 25236.5391 - val_loss: 3745347072.0000 - val_mae: 28703.5898\n",
            "Epoch 40/40\n",
            "12/12 [==============================] - 0s 5ms/step - loss: 1396101504.0000 - mae: 24139.3711 - val_loss: 3766439680.0000 - val_mae: 28630.1523\n"
          ]
        }
      ]
    },
    {
      "cell_type": "markdown",
      "metadata": {
        "id": "ZLmYIMDlQ4li"
      },
      "source": [
        "**Оцените полученные результаты**"
      ]
    },
    {
      "cell_type": "code",
      "metadata": {
        "id": "s6aKc0gzQ4lj",
        "colab": {
          "base_uri": "https://localhost:8080/",
          "height": 327
        },
        "outputId": "962fe43d-7800-49c5-cc94-9d6d65b8edf8"
      },
      "source": [
        "# Оценка полученных результатов\n",
        "pd.DataFrame(history.history)[['loss', 'val_loss']].plot()\n",
        "plt.ylabel('loss')\n",
        "plt.xlabel('epoch')\n",
        "print(history.history)\n",
        "\n"
      ],
      "execution_count": 46,
      "outputs": [
        {
          "output_type": "stream",
          "name": "stdout",
          "text": [
            "{'loss': [28089239552.0, 11643934720.0, 5962331136.0, 4183126016.0, 3363517952.0, 2979964928.0, 2724067072.0, 2379707136.0, 2102675456.0, 1825873408.0, 1691549184.0, 1647266048.0, 1626913792.0, 1580803072.0, 1564720768.0, 1533797760.0, 1500566528.0, 1518773632.0, 1483365632.0, 1514013696.0, 1538977920.0, 1526640896.0, 1491776512.0, 1495689600.0, 1530441728.0, 1437369472.0, 1474378880.0, 1477002624.0, 1477305728.0, 1453545984.0, 1523376896.0, 1435191808.0, 1405341952.0, 1406793856.0, 1396269440.0, 1373898752.0, 1477303168.0, 1446130560.0, 1439126400.0, 1396101504.0], 'mae': [119328.0546875, 61977.57421875, 51213.546875, 43130.234375, 40871.484375, 38966.88671875, 36962.890625, 33391.5546875, 31717.537109375, 28988.38671875, 27227.220703125, 27063.33984375, 27166.6328125, 26450.478515625, 26002.623046875, 25803.103515625, 25448.2890625, 25475.53515625, 25224.234375, 25757.154296875, 25632.083984375, 25703.0078125, 25293.1640625, 25903.95703125, 26016.177734375, 24551.64453125, 25023.328125, 25564.591796875, 25108.1640625, 24576.544921875, 25528.251953125, 24972.455078125, 24178.30078125, 24344.154296875, 24330.95703125, 24223.80859375, 25009.0, 24834.5859375, 25236.5390625, 24139.37109375], 'val_loss': [12745383936.0, 7608565248.0, 5608389120.0, 4175113216.0, 4224396800.0, 3658123008.0, 3583706368.0, 3576465152.0, 3285968640.0, 3391832320.0, 3599800576.0, 3820918016.0, 3690390784.0, 3714400000.0, 3923447296.0, 3889780992.0, 3745713408.0, 3795179008.0, 3798037504.0, 3934960896.0, 4012551936.0, 3920491008.0, 3949613568.0, 4292908800.0, 3878722048.0, 3910780928.0, 4066756096.0, 4359685632.0, 3996814336.0, 3704933632.0, 3732184064.0, 3951741440.0, 3883400704.0, 3657779968.0, 3819964160.0, 3727380992.0, 3590733824.0, 3623953152.0, 3745347072.0, 3766439680.0], 'val_mae': [80487.0390625, 59207.31640625, 56106.828125, 41597.765625, 47483.7734375, 38979.87109375, 39244.8359375, 37945.859375, 31856.80078125, 30642.5078125, 30416.986328125, 30921.021484375, 29971.74609375, 30249.826171875, 30243.158203125, 29828.185546875, 29666.009765625, 29688.171875, 29503.83984375, 29792.685546875, 29624.771484375, 29896.404296875, 29827.173828125, 32192.658203125, 29232.021484375, 29096.513671875, 29841.28125, 31612.44921875, 29021.041015625, 29860.02734375, 28858.791015625, 29610.400390625, 28882.3046875, 29040.60546875, 28956.03515625, 30692.208984375, 29616.271484375, 29525.458984375, 28703.58984375, 28630.15234375]}\n"
          ]
        },
        {
          "output_type": "display_data",
          "data": {
            "image/png": "[encoded data removed]",
            "text/plain": [
              "<Figure size 432x288 with 1 Axes>"
            ]
          },
          "metadata": {
            "needs_background": "light"
          }
        }
      ]
    },
    {
      "cell_type": "code",
      "metadata": {
        "colab": {
          "base_uri": "https://localhost:8080/",
          "height": 316
        },
        "id": "B9O6d54OegqD",
        "outputId": "05b22109-390d-49c3-fed3-409dee98352d"
      },
      "source": [
        "pd.DataFrame(history.history)[['mae', 'val_mae']].plot()\n",
        "plt.ylabel('mae')\n",
        "plt.xlabel('epoch')\n",
        "print(history.history)"
      ],
      "execution_count": 47,
      "outputs": [
        {
          "output_type": "stream",
          "name": "stdout",
          "text": [
            "{'loss': [28089239552.0, 11643934720.0, 5962331136.0, 4183126016.0, 3363517952.0, 2979964928.0, 2724067072.0, 2379707136.0, 2102675456.0, 1825873408.0, 1691549184.0, 1647266048.0, 1626913792.0, 1580803072.0, 1564720768.0, 1533797760.0, 1500566528.0, 1518773632.0, 1483365632.0, 1514013696.0, 1538977920.0, 1526640896.0, 1491776512.0, 1495689600.0, 1530441728.0, 1437369472.0, 1474378880.0, 1477002624.0, 1477305728.0, 1453545984.0, 1523376896.0, 1435191808.0, 1405341952.0, 1406793856.0, 1396269440.0, 1373898752.0, 1477303168.0, 1446130560.0, 1439126400.0, 1396101504.0], 'mae': [119328.0546875, 61977.57421875, 51213.546875, 43130.234375, 40871.484375, 38966.88671875, 36962.890625, 33391.5546875, 31717.537109375, 28988.38671875, 27227.220703125, 27063.33984375, 27166.6328125, 26450.478515625, 26002.623046875, 25803.103515625, 25448.2890625, 25475.53515625, 25224.234375, 25757.154296875, 25632.083984375, 25703.0078125, 25293.1640625, 25903.95703125, 26016.177734375, 24551.64453125, 25023.328125, 25564.591796875, 25108.1640625, 24576.544921875, 25528.251953125, 24972.455078125, 24178.30078125, 24344.154296875, 24330.95703125, 24223.80859375, 25009.0, 24834.5859375, 25236.5390625, 24139.37109375], 'val_loss': [12745383936.0, 7608565248.0, 5608389120.0, 4175113216.0, 4224396800.0, 3658123008.0, 3583706368.0, 3576465152.0, 3285968640.0, 3391832320.0, 3599800576.0, 3820918016.0, 3690390784.0, 3714400000.0, 3923447296.0, 3889780992.0, 3745713408.0, 3795179008.0, 3798037504.0, 3934960896.0, 4012551936.0, 3920491008.0, 3949613568.0, 4292908800.0, 3878722048.0, 3910780928.0, 4066756096.0, 4359685632.0, 3996814336.0, 3704933632.0, 3732184064.0, 3951741440.0, 3883400704.0, 3657779968.0, 3819964160.0, 3727380992.0, 3590733824.0, 3623953152.0, 3745347072.0, 3766439680.0], 'val_mae': [80487.0390625, 59207.31640625, 56106.828125, 41597.765625, 47483.7734375, 38979.87109375, 39244.8359375, 37945.859375, 31856.80078125, 30642.5078125, 30416.986328125, 30921.021484375, 29971.74609375, 30249.826171875, 30243.158203125, 29828.185546875, 29666.009765625, 29688.171875, 29503.83984375, 29792.685546875, 29624.771484375, 29896.404296875, 29827.173828125, 32192.658203125, 29232.021484375, 29096.513671875, 29841.28125, 31612.44921875, 29021.041015625, 29860.02734375, 28858.791015625, 29610.400390625, 28882.3046875, 29040.60546875, 28956.03515625, 30692.208984375, 29616.271484375, 29525.458984375, 28703.58984375, 28630.15234375]}\n"
          ]
        },
        {
          "output_type": "display_data",
          "data": {
            "image/png": "[encoded data removed]",
            "text/plain": [
              "<Figure size 432x288 with 1 Axes>"
            ]
          },
          "metadata": {
            "needs_background": "light"
          }
        }
      ]
    },
    {
      "cell_type": "code",
      "metadata": {
        "id": "LliqSq9HQ4lj",
        "colab": {
          "base_uri": "https://localhost:8080/"
        },
        "outputId": "40c49415-0340-4180-f5f7-623d1b358897"
      },
      "source": [
        "scores = model.evaluate(X_val, y_val, verbose=1)"
      ],
      "execution_count": 48,
      "outputs": [
        {
          "output_type": "stream",
          "name": "stdout",
          "text": [
            "10/10 [==============================] - 0s 2ms/step - loss: 1339526272.0000 - mae: 24692.4102\n"
          ]
        }
      ]
    },
    {
      "cell_type": "markdown",
      "metadata": {
        "id": "Jm633l23Q4lj"
      },
      "source": [
        "### Предсказание"
      ]
    },
    {
      "cell_type": "code",
      "metadata": {
        "id": "hwSwKfWMQ4lk",
        "colab": {
          "base_uri": "https://localhost:8080/"
        },
        "outputId": "102b39c1-52dc-428a-9c7c-beb120370d97"
      },
      "source": [
        "# Предсказание\n",
        "preds = model.predict(test_edited)\n",
        "preds"
      ],
      "execution_count": 49,
      "outputs": [
        {
          "output_type": "execute_result",
          "data": {
            "text/plain": [
              "array([[147500.22],\n",
              "       [194072.2 ],\n",
              "       [183251.12],\n",
              "       ...,\n",
              "       [187796.97],\n",
              "       [103666.46],\n",
              "       [226996.19]], dtype=float32)"
            ]
          },
          "metadata": {},
          "execution_count": 49
        }
      ]
    },
    {
      "cell_type": "code",
      "metadata": {
        "id": "527EzMWkQ4lk",
        "colab": {
          "base_uri": "https://localhost:8080/",
          "height": 423
        },
        "outputId": "11d04ee1-7cff-4a8f-84a7-32290bc3ed50"
      },
      "source": [
        "output = pd.DataFrame(\n",
        "{\n",
        "    'Id':test_data['Id'],\n",
        "    'SalePrice': np.squeeze(preds)\n",
        "})\n",
        "output"
      ],
      "execution_count": 50,
      "outputs": [
        {
          "output_type": "execute_result",
          "data": {
            "text/html": [
              "<div>\n",
              "<style scoped>\n",
              "    .dataframe tbody tr th:only-of-type {\n",
              "        vertical-align: middle;\n",
              "    }\n",
              "\n",
              "    .dataframe tbody tr th {\n",
              "        vertical-align: top;\n",
              "    }\n",
              "\n",
              "    .dataframe thead th {\n",
              "        text-align: right;\n",
              "    }\n",
              "</style>\n",
              "<table border=\"1\" class=\"dataframe\">\n",
              "  <thead>\n",
              "    <tr style=\"text-align: right;\">\n",
              "      <th></th>\n",
              "      <th>Id</th>\n",
              "      <th>SalePrice</th>\n",
              "    </tr>\n",
              "  </thead>\n",
              "  <tbody>\n",
              "    <tr>\n",
              "      <th>0</th>\n",
              "      <td>1461</td>\n",
              "      <td>147500.218750</td>\n",
              "    </tr>\n",
              "    <tr>\n",
              "      <th>1</th>\n",
              "      <td>1462</td>\n",
              "      <td>194072.203125</td>\n",
              "    </tr>\n",
              "    <tr>\n",
              "      <th>2</th>\n",
              "      <td>1463</td>\n",
              "      <td>183251.125000</td>\n",
              "    </tr>\n",
              "    <tr>\n",
              "      <th>3</th>\n",
              "      <td>1464</td>\n",
              "      <td>181897.062500</td>\n",
              "    </tr>\n",
              "    <tr>\n",
              "      <th>4</th>\n",
              "      <td>1465</td>\n",
              "      <td>177232.281250</td>\n",
              "    </tr>\n",
              "    <tr>\n",
              "      <th>...</th>\n",
              "      <td>...</td>\n",
              "      <td>...</td>\n",
              "    </tr>\n",
              "    <tr>\n",
              "      <th>1454</th>\n",
              "      <td>2915</td>\n",
              "      <td>93974.671875</td>\n",
              "    </tr>\n",
              "    <tr>\n",
              "      <th>1455</th>\n",
              "      <td>2916</td>\n",
              "      <td>110812.750000</td>\n",
              "    </tr>\n",
              "    <tr>\n",
              "      <th>1456</th>\n",
              "      <td>2917</td>\n",
              "      <td>187796.968750</td>\n",
              "    </tr>\n",
              "    <tr>\n",
              "      <th>1457</th>\n",
              "      <td>2918</td>\n",
              "      <td>103666.460938</td>\n",
              "    </tr>\n",
              "    <tr>\n",
              "      <th>1458</th>\n",
              "      <td>2919</td>\n",
              "      <td>226996.187500</td>\n",
              "    </tr>\n",
              "  </tbody>\n",
              "</table>\n",
              "<p>1459 rows × 2 columns</p>\n",
              "</div>"
            ],
            "text/plain": [
              "        Id      SalePrice\n",
              "0     1461  147500.218750\n",
              "1     1462  194072.203125\n",
              "2     1463  183251.125000\n",
              "3     1464  181897.062500\n",
              "4     1465  177232.281250\n",
              "...    ...            ...\n",
              "1454  2915   93974.671875\n",
              "1455  2916  110812.750000\n",
              "1456  2917  187796.968750\n",
              "1457  2918  103666.460938\n",
              "1458  2919  226996.187500\n",
              "\n",
              "[1459 rows x 2 columns]"
            ]
          },
          "metadata": {},
          "execution_count": 50
        }
      ]
    },
    {
      "cell_type": "markdown",
      "metadata": {
        "id": "7mbn1M7HQ4ll"
      },
      "source": [
        "\n",
        "**При выполнении:**\n",
        "\n",
        "Выведите отчет нейросетевой регрессионной модели, для  прогнозирование цен на жилье. \n",
        "\n",
        "Подберить разные комбинации гиперпараметров таким образом, чтобы получить лучший результат на тестовом наборе данных.\n",
        "\n",
        "Попробуйте использовать разное количество нейронов на входном слое, например 100, 150, 200 300.\n",
        "\n",
        "Добавьте в нейронную сеть скрытый слой с разным количеством нейронов.\n",
        "\n",
        "Используйте разное количество эпох: 10, 15, 20, 25, 30.\n",
        "\n",
        "Используйте разные размеры мини-выборки (batch_size): 10, 50, 100, 200.\n",
        "\n",
        "Попробуйте использовать разные значения оптимизатора `optimizers` и функции потерь `loss`. Сравните полученые результаты.\n",
        "\n",
        "**Вопросы:**\n",
        "\n",
        "Как выше перечисленные параметры влияют на полученный вами результат? \n",
        "\n",
        "Что такое эпоха (Epoch)? В чем отличие от итерации (Iteration)?\n",
        "\n",
        "Что такое функция активации? Какие вам известны?\n",
        "\n",
        "Что такое MSE(Mean Squared Error) - Средняя квадратичная ошибка? Что такое MAE(Mean Absolute Error)? Для чего используются."
      ]
    }
  ]
}