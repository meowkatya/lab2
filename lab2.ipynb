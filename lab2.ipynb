{
  "nbformat": 4,
  "nbformat_minor": 0,
  "metadata": {
    "colab": {
      "name": "lab2.ipynb",
      "provenance": [],
      "collapsed_sections": []
    },
    "language_info": {
      "name": "python"
    },
    "kernelspec": {
      "name": "python3",
      "display_name": "Python 3"
    }
  },
  "cells": [
    {
      "cell_type": "markdown",
      "metadata": {
        "id": "8n9K8NduQ4lI"
      },
      "source": [
        "## Прогнозирование цен на жилье с помощью нейросетевой регрессионной модели\n",
        "\n",
        "Необходимо по имеющимся данным о ценах на жильё предсказать окончательную цену каждого дома с учетом характеристик домов с использованием нейронной сети. Описание набора данных  содержит 80 классов (набор переменых) классификации оценки типа жилья, и находится в файле `data_description.txt`.\n",
        "\n",
        "В работе требуется дополнить раздел «Моделирование» в подразделе «Построение и обучение модели» создать и инициализировать последовательную модель нейронной сети с помощью фрэймворков тренировки нейронных сетей как: Torch или Tensorflow. Скомпилировать нейронную сеть выбрав функцию потерь и оптимизатор соответственно. Оценить точность полученных результатов. Вывести предсказанные данные о продаже. \n",
        "\n",
        "\n",
        "### Импорт библиотек\n",
        "Импортируем необходимые библиотеки:"
      ]
    },
    {
      "cell_type": "code",
      "metadata": {
        "id": "sLbQ2TVnQ4lO"
      },
      "source": [
        "# Импорт библиотек\n",
        "import numpy as np\n",
        "import pandas as pd\n",
        "import matplotlib.pyplot as plt\n",
        "import tensorflow as tf\n",
        "from tensorflow import keras\n",
        "from tensorflow.keras import layers\n",
        "from sklearn.model_selection import train_test_split"
      ],
      "execution_count": 84,
      "outputs": []
    },
    {
      "cell_type": "markdown",
      "metadata": {
        "id": "OVE0MPccQ4lR"
      },
      "source": [
        "### Считываем набор данных\n",
        "\n",
        "\n",
        "Загрузим набор данных и присвоим следующими переменные:\n",
        "\n",
        "* `train_data`: данные, используемые для обучения модели\n",
        "* `test_data`: данные, используемые для проверки модели"
      ]
    },
    {
      "cell_type": "code",
      "metadata": {
        "id": "wO0hfo89Q4lS"
      },
      "source": [
        "#Считываем набор данных\n",
        "train_data = pd.read_csv('/content/data/notebook_files/test.csv') \n",
        "test_data = pd.read_csv('/content/data/notebook_files/train.csv')"
      ],
      "execution_count": 85,
      "outputs": []
    },
    {
      "cell_type": "markdown",
      "metadata": {
        "id": "nvMeg2V-Q4lT"
      },
      "source": [
        "## Подготовка данных\n",
        "### Отобразим обучающие и проверочные данные:"
      ]
    },
    {
      "cell_type": "code",
      "metadata": {
        "colab": {
          "base_uri": "https://localhost:8080/"
        },
        "id": "ipG8vFanQ4lT",
        "outputId": "945cd9ff-c3cf-447c-eee9-495951123620"
      },
      "source": [
        "#Отобразим обучающие и проверочные данные\n",
        "print(train_data.head())"
      ],
      "execution_count": 88,
      "outputs": [
        {
          "output_type": "stream",
          "name": "stdout",
          "text": [
            "   Id  MSSubClass MSZoning  ...  SaleType  SaleCondition SalePrice\n",
            "0   1          60       RL  ...        WD         Normal    208500\n",
            "1   2          20       RL  ...        WD         Normal    181500\n",
            "2   3          60       RL  ...        WD         Normal    223500\n",
            "3   4          70       RL  ...        WD        Abnorml    140000\n",
            "4   5          60       RL  ...        WD         Normal    250000\n",
            "\n",
            "[5 rows x 81 columns]\n"
          ]
        }
      ]
    },
    {
      "cell_type": "code",
      "metadata": {
        "colab": {
          "base_uri": "https://localhost:8080/"
        },
        "id": "k1zXJ_RsQ4lU",
        "outputId": "c8837eec-f2ed-4f47-8192-652ef9feafb9"
      },
      "source": [
        "print(test_data.head())"
      ],
      "execution_count": 89,
      "outputs": [
        {
          "output_type": "stream",
          "name": "stdout",
          "text": [
            "     Id  MSSubClass MSZoning  ...  YrSold  SaleType SaleCondition\n",
            "0  1461          20       RH  ...    2010        WD        Normal\n",
            "1  1462          20       RL  ...    2010        WD        Normal\n",
            "2  1463          60       RL  ...    2010        WD        Normal\n",
            "3  1464          60       RL  ...    2010        WD        Normal\n",
            "4  1465         120       RL  ...    2010        WD        Normal\n",
            "\n",
            "[5 rows x 80 columns]\n"
          ]
        }
      ]
    },
    {
      "cell_type": "markdown",
      "metadata": {
        "id": "Q3DZ1lxiQ4lU"
      },
      "source": [
        "Как можно видеть, `train_data` имеет на один столбец больше, чем `test_data`, это столбец `SalePrice`, для обучения модели перед применением ее для предсказания меток в test_data."
      ]
    },
    {
      "cell_type": "markdown",
      "metadata": {
        "id": "ISByfPzgQ4lV"
      },
      "source": [
        "### Проверяем нет ли тестовые данные пустых значений значений (Nan)\n",
        "\n",
        "Построим функцию `def missing_value_checker` для проверки и подсчёта пропущеных значений в test_data. А также выведем тип данных этих значений.\n"
      ]
    },
    {
      "cell_type": "code",
      "metadata": {
        "colab": {
          "base_uri": "https://localhost:8080/"
        },
        "id": "DRuv9Cx5Q4lW",
        "outputId": "12379da5-49d6-4958-ab86-8ca5964e40d5"
      },
      "source": [
        "# Построим функцию для проверки и подсчета пропущенных значений в test_data, выведем тип данных этих значений\n",
        "def missing_value_checker(data):\n",
        "    list = []\n",
        "    for feature, content in data.items():\n",
        "        if data[feature].isnull().values.any():\n",
        "            \n",
        "            sum = data[feature].isna().sum()\n",
        "\n",
        "            type = data[feature].dtype\n",
        "\n",
        "            print (f'{feature}: {sum}, type: {type}')\n",
        "            \n",
        "            list.append(feature)\n",
        "    print(list)\n",
        "\n",
        "    print(len(list))\n",
        "\n",
        "missing_value_checker(test_data)"
      ],
      "execution_count": 90,
      "outputs": [
        {
          "output_type": "stream",
          "name": "stdout",
          "text": [
            "MSZoning: 4, type: object\n",
            "LotFrontage: 227, type: float64\n",
            "Alley: 1352, type: object\n",
            "Utilities: 2, type: object\n",
            "Exterior1st: 1, type: object\n",
            "Exterior2nd: 1, type: object\n",
            "MasVnrType: 16, type: object\n",
            "MasVnrArea: 15, type: float64\n",
            "BsmtQual: 44, type: object\n",
            "BsmtCond: 45, type: object\n",
            "BsmtExposure: 44, type: object\n",
            "BsmtFinType1: 42, type: object\n",
            "BsmtFinSF1: 1, type: float64\n",
            "BsmtFinType2: 42, type: object\n",
            "BsmtFinSF2: 1, type: float64\n",
            "BsmtUnfSF: 1, type: float64\n",
            "TotalBsmtSF: 1, type: float64\n",
            "BsmtFullBath: 2, type: float64\n",
            "BsmtHalfBath: 2, type: float64\n",
            "KitchenQual: 1, type: object\n",
            "Functional: 2, type: object\n",
            "FireplaceQu: 730, type: object\n",
            "GarageType: 76, type: object\n",
            "GarageYrBlt: 78, type: float64\n",
            "GarageFinish: 78, type: object\n",
            "GarageCars: 1, type: float64\n",
            "GarageArea: 1, type: float64\n",
            "GarageQual: 78, type: object\n",
            "GarageCond: 78, type: object\n",
            "PoolQC: 1456, type: object\n",
            "Fence: 1169, type: object\n",
            "MiscFeature: 1408, type: object\n",
            "SaleType: 1, type: object\n",
            "['MSZoning', 'LotFrontage', 'Alley', 'Utilities', 'Exterior1st', 'Exterior2nd', 'MasVnrType', 'MasVnrArea', 'BsmtQual', 'BsmtCond', 'BsmtExposure', 'BsmtFinType1', 'BsmtFinSF1', 'BsmtFinType2', 'BsmtFinSF2', 'BsmtUnfSF', 'TotalBsmtSF', 'BsmtFullBath', 'BsmtHalfBath', 'KitchenQual', 'Functional', 'FireplaceQu', 'GarageType', 'GarageYrBlt', 'GarageFinish', 'GarageCars', 'GarageArea', 'GarageQual', 'GarageCond', 'PoolQC', 'Fence', 'MiscFeature', 'SaleType']\n",
            "33\n"
          ]
        }
      ]
    },
    {
      "cell_type": "markdown",
      "metadata": {
        "id": "xXX0tJI8Q4lX"
      },
      "source": [
        "Проверяем какие признаки в таблице можно оставить, а какие удалить. Если пропущенных значений слишком много, то удалим признак. Если их небольшое количество, то заполним `mean` или `median` для чисел, новая категория `missing` для строковых объектов.\n",
        "\n",
        "В соответствии с этим:\n",
        "\n",
        "– удалим ['Alley', 'FireplaceQu', 'PoolQC', 'Fence', 'MiscFeature'];\n",
        "\n",
        "– заполним числовое отсутствующее значение значением `mean`;\n",
        "\n",
        "– заполним строковое отсутствующее значение значением `missing`."
      ]
    },
    {
      "cell_type": "code",
      "metadata": {
        "id": "fG2OO8mjQ4lY"
      },
      "source": [
        "# удалим ['Alley', 'FireplaceQu', 'PoolQC', 'Fence', 'MiscFeature']\n",
        "test_edited = test_data.drop(['Alley','FireplaceQu','PoolQC', 'Fence', 'MiscFeature'], axis=1)\n",
        "train_edited = train_data.drop(['Alley','FireplaceQu','PoolQC', 'Fence', 'MiscFeature'], axis=1)\n",
        "# заполним числовое отсутствующее значение значением mean/ median, а строковое значением missing\n",
        "def nan_filler(data):\n",
        "    for label, content in data.items():\n",
        "        if pd.api.types.is_numeric_dtype(content):\n",
        "            data[label] = content.fillna(content.median())\n",
        "        else:\n",
        "            data[label] = content.astype(\"category\").cat.as_ordered()\n",
        "            data[label] = pd.Categorical(content).codes+1\n",
        "\n",
        "nan_filler(test_edited)\n",
        "nan_filler(train_edited)"
      ],
      "execution_count": 101,
      "outputs": []
    },
    {
      "cell_type": "markdown",
      "metadata": {
        "id": "DbdVt8d0Q4lZ"
      },
      "source": [
        "### Перепроверим наши данные:"
      ]
    },
    {
      "cell_type": "code",
      "metadata": {
        "colab": {
          "base_uri": "https://localhost:8080/"
        },
        "id": "iu7KqyRgQ4lZ",
        "outputId": "3764d94e-2d1f-4fe9-fecf-d7336dcee1dd"
      },
      "source": [
        "# Перепроверим данные\n",
        "missing_value_checker(test_edited)"
      ],
      "execution_count": 91,
      "outputs": [
        {
          "output_type": "stream",
          "name": "stdout",
          "text": [
            "[]\n",
            "0\n"
          ]
        }
      ]
    },
    {
      "cell_type": "code",
      "metadata": {
        "colab": {
          "base_uri": "https://localhost:8080/"
        },
        "id": "9Bh35P_hQ4la",
        "outputId": "b7151dc7-27df-4e01-94ab-9c05074bcd23"
      },
      "source": [
        "missing_value_checker(train_edited)"
      ],
      "execution_count": 55,
      "outputs": [
        {
          "output_type": "stream",
          "name": "stdout",
          "text": [
            "[]\n",
            "0\n"
          ]
        }
      ]
    },
    {
      "cell_type": "code",
      "metadata": {
        "colab": {
          "base_uri": "https://localhost:8080/"
        },
        "id": "yrUaiRAtQ4la",
        "outputId": "c600f853-63a3-4760-be22-2b0dddb63152"
      },
      "source": [
        "train_edited.shape, test_edited.shape"
      ],
      "execution_count": 56,
      "outputs": [
        {
          "output_type": "execute_result",
          "data": {
            "text/plain": [
              "((1460, 76), (1459, 75))"
            ]
          },
          "metadata": {},
          "execution_count": 56
        }
      ]
    },
    {
      "cell_type": "code",
      "metadata": {
        "colab": {
          "base_uri": "https://localhost:8080/"
        },
        "id": "7cg3mZ04Q4lb",
        "outputId": "1488a498-5d32-4a67-f95a-735652b96e92"
      },
      "source": [
        "test_edited.info()"
      ],
      "execution_count": 57,
      "outputs": [
        {
          "output_type": "stream",
          "name": "stdout",
          "text": [
            "<class 'pandas.core.frame.DataFrame'>\n",
            "RangeIndex: 1459 entries, 0 to 1458\n",
            "Data columns (total 75 columns):\n",
            " #   Column         Non-Null Count  Dtype  \n",
            "---  ------         --------------  -----  \n",
            " 0   Id             1459 non-null   int64  \n",
            " 1   MSSubClass     1459 non-null   int64  \n",
            " 2   MSZoning       1459 non-null   int8   \n",
            " 3   LotFrontage    1459 non-null   float64\n",
            " 4   LotArea        1459 non-null   int64  \n",
            " 5   Street         1459 non-null   int8   \n",
            " 6   LotShape       1459 non-null   int8   \n",
            " 7   LandContour    1459 non-null   int8   \n",
            " 8   Utilities      1459 non-null   int8   \n",
            " 9   LotConfig      1459 non-null   int8   \n",
            " 10  LandSlope      1459 non-null   int8   \n",
            " 11  Neighborhood   1459 non-null   int8   \n",
            " 12  Condition1     1459 non-null   int8   \n",
            " 13  Condition2     1459 non-null   int8   \n",
            " 14  BldgType       1459 non-null   int8   \n",
            " 15  HouseStyle     1459 non-null   int8   \n",
            " 16  OverallQual    1459 non-null   int64  \n",
            " 17  OverallCond    1459 non-null   int64  \n",
            " 18  YearBuilt      1459 non-null   int64  \n",
            " 19  YearRemodAdd   1459 non-null   int64  \n",
            " 20  RoofStyle      1459 non-null   int8   \n",
            " 21  RoofMatl       1459 non-null   int8   \n",
            " 22  Exterior1st    1459 non-null   int8   \n",
            " 23  Exterior2nd    1459 non-null   int8   \n",
            " 24  MasVnrType     1459 non-null   int8   \n",
            " 25  MasVnrArea     1459 non-null   float64\n",
            " 26  ExterQual      1459 non-null   int8   \n",
            " 27  ExterCond      1459 non-null   int8   \n",
            " 28  Foundation     1459 non-null   int8   \n",
            " 29  BsmtQual       1459 non-null   int8   \n",
            " 30  BsmtCond       1459 non-null   int8   \n",
            " 31  BsmtExposure   1459 non-null   int8   \n",
            " 32  BsmtFinType1   1459 non-null   int8   \n",
            " 33  BsmtFinSF1     1459 non-null   float64\n",
            " 34  BsmtFinType2   1459 non-null   int8   \n",
            " 35  BsmtFinSF2     1459 non-null   float64\n",
            " 36  BsmtUnfSF      1459 non-null   float64\n",
            " 37  TotalBsmtSF    1459 non-null   float64\n",
            " 38  Heating        1459 non-null   int8   \n",
            " 39  HeatingQC      1459 non-null   int8   \n",
            " 40  CentralAir     1459 non-null   int8   \n",
            " 41  Electrical     1459 non-null   int8   \n",
            " 42  1stFlrSF       1459 non-null   int64  \n",
            " 43  2ndFlrSF       1459 non-null   int64  \n",
            " 44  LowQualFinSF   1459 non-null   int64  \n",
            " 45  GrLivArea      1459 non-null   int64  \n",
            " 46  BsmtFullBath   1459 non-null   float64\n",
            " 47  BsmtHalfBath   1459 non-null   float64\n",
            " 48  FullBath       1459 non-null   int64  \n",
            " 49  HalfBath       1459 non-null   int64  \n",
            " 50  BedroomAbvGr   1459 non-null   int64  \n",
            " 51  KitchenAbvGr   1459 non-null   int64  \n",
            " 52  KitchenQual    1459 non-null   int8   \n",
            " 53  TotRmsAbvGrd   1459 non-null   int64  \n",
            " 54  Functional     1459 non-null   int8   \n",
            " 55  Fireplaces     1459 non-null   int64  \n",
            " 56  GarageType     1459 non-null   int8   \n",
            " 57  GarageYrBlt    1459 non-null   float64\n",
            " 58  GarageFinish   1459 non-null   int8   \n",
            " 59  GarageCars     1459 non-null   float64\n",
            " 60  GarageArea     1459 non-null   float64\n",
            " 61  GarageQual     1459 non-null   int8   \n",
            " 62  GarageCond     1459 non-null   int8   \n",
            " 63  PavedDrive     1459 non-null   int8   \n",
            " 64  WoodDeckSF     1459 non-null   int64  \n",
            " 65  OpenPorchSF    1459 non-null   int64  \n",
            " 66  EnclosedPorch  1459 non-null   int64  \n",
            " 67  3SsnPorch      1459 non-null   int64  \n",
            " 68  ScreenPorch    1459 non-null   int64  \n",
            " 69  PoolArea       1459 non-null   int64  \n",
            " 70  MiscVal        1459 non-null   int64  \n",
            " 71  MoSold         1459 non-null   int64  \n",
            " 72  YrSold         1459 non-null   int64  \n",
            " 73  SaleType       1459 non-null   int8   \n",
            " 74  SaleCondition  1459 non-null   int8   \n",
            "dtypes: float64(11), int64(26), int8(38)\n",
            "memory usage: 476.0 KB\n"
          ]
        }
      ]
    },
    {
      "cell_type": "code",
      "metadata": {
        "colab": {
          "base_uri": "https://localhost:8080/"
        },
        "id": "zIufRaGSQ4lc",
        "outputId": "b8a6f739-6bca-417e-a44c-e6297c8b70c0"
      },
      "source": [
        "train_edited.info()"
      ],
      "execution_count": 58,
      "outputs": [
        {
          "output_type": "stream",
          "name": "stdout",
          "text": [
            "<class 'pandas.core.frame.DataFrame'>\n",
            "RangeIndex: 1460 entries, 0 to 1459\n",
            "Data columns (total 76 columns):\n",
            " #   Column         Non-Null Count  Dtype  \n",
            "---  ------         --------------  -----  \n",
            " 0   Id             1460 non-null   int64  \n",
            " 1   MSSubClass     1460 non-null   int64  \n",
            " 2   MSZoning       1460 non-null   int8   \n",
            " 3   LotFrontage    1460 non-null   float64\n",
            " 4   LotArea        1460 non-null   int64  \n",
            " 5   Street         1460 non-null   int8   \n",
            " 6   LotShape       1460 non-null   int8   \n",
            " 7   LandContour    1460 non-null   int8   \n",
            " 8   Utilities      1460 non-null   int8   \n",
            " 9   LotConfig      1460 non-null   int8   \n",
            " 10  LandSlope      1460 non-null   int8   \n",
            " 11  Neighborhood   1460 non-null   int8   \n",
            " 12  Condition1     1460 non-null   int8   \n",
            " 13  Condition2     1460 non-null   int8   \n",
            " 14  BldgType       1460 non-null   int8   \n",
            " 15  HouseStyle     1460 non-null   int8   \n",
            " 16  OverallQual    1460 non-null   int64  \n",
            " 17  OverallCond    1460 non-null   int64  \n",
            " 18  YearBuilt      1460 non-null   int64  \n",
            " 19  YearRemodAdd   1460 non-null   int64  \n",
            " 20  RoofStyle      1460 non-null   int8   \n",
            " 21  RoofMatl       1460 non-null   int8   \n",
            " 22  Exterior1st    1460 non-null   int8   \n",
            " 23  Exterior2nd    1460 non-null   int8   \n",
            " 24  MasVnrType     1460 non-null   int8   \n",
            " 25  MasVnrArea     1460 non-null   float64\n",
            " 26  ExterQual      1460 non-null   int8   \n",
            " 27  ExterCond      1460 non-null   int8   \n",
            " 28  Foundation     1460 non-null   int8   \n",
            " 29  BsmtQual       1460 non-null   int8   \n",
            " 30  BsmtCond       1460 non-null   int8   \n",
            " 31  BsmtExposure   1460 non-null   int8   \n",
            " 32  BsmtFinType1   1460 non-null   int8   \n",
            " 33  BsmtFinSF1     1460 non-null   int64  \n",
            " 34  BsmtFinType2   1460 non-null   int8   \n",
            " 35  BsmtFinSF2     1460 non-null   int64  \n",
            " 36  BsmtUnfSF      1460 non-null   int64  \n",
            " 37  TotalBsmtSF    1460 non-null   int64  \n",
            " 38  Heating        1460 non-null   int8   \n",
            " 39  HeatingQC      1460 non-null   int8   \n",
            " 40  CentralAir     1460 non-null   int8   \n",
            " 41  Electrical     1460 non-null   int8   \n",
            " 42  1stFlrSF       1460 non-null   int64  \n",
            " 43  2ndFlrSF       1460 non-null   int64  \n",
            " 44  LowQualFinSF   1460 non-null   int64  \n",
            " 45  GrLivArea      1460 non-null   int64  \n",
            " 46  BsmtFullBath   1460 non-null   int64  \n",
            " 47  BsmtHalfBath   1460 non-null   int64  \n",
            " 48  FullBath       1460 non-null   int64  \n",
            " 49  HalfBath       1460 non-null   int64  \n",
            " 50  BedroomAbvGr   1460 non-null   int64  \n",
            " 51  KitchenAbvGr   1460 non-null   int64  \n",
            " 52  KitchenQual    1460 non-null   int8   \n",
            " 53  TotRmsAbvGrd   1460 non-null   int64  \n",
            " 54  Functional     1460 non-null   int8   \n",
            " 55  Fireplaces     1460 non-null   int64  \n",
            " 56  GarageType     1460 non-null   int8   \n",
            " 57  GarageYrBlt    1460 non-null   float64\n",
            " 58  GarageFinish   1460 non-null   int8   \n",
            " 59  GarageCars     1460 non-null   int64  \n",
            " 60  GarageArea     1460 non-null   int64  \n",
            " 61  GarageQual     1460 non-null   int8   \n",
            " 62  GarageCond     1460 non-null   int8   \n",
            " 63  PavedDrive     1460 non-null   int8   \n",
            " 64  WoodDeckSF     1460 non-null   int64  \n",
            " 65  OpenPorchSF    1460 non-null   int64  \n",
            " 66  EnclosedPorch  1460 non-null   int64  \n",
            " 67  3SsnPorch      1460 non-null   int64  \n",
            " 68  ScreenPorch    1460 non-null   int64  \n",
            " 69  PoolArea       1460 non-null   int64  \n",
            " 70  MiscVal        1460 non-null   int64  \n",
            " 71  MoSold         1460 non-null   int64  \n",
            " 72  YrSold         1460 non-null   int64  \n",
            " 73  SaleType       1460 non-null   int8   \n",
            " 74  SaleCondition  1460 non-null   int8   \n",
            " 75  SalePrice      1460 non-null   int64  \n",
            "dtypes: float64(3), int64(35), int8(38)\n",
            "memory usage: 487.7 KB\n"
          ]
        }
      ]
    },
    {
      "cell_type": "markdown",
      "metadata": {
        "id": "yUnAQtXzQ4lc"
      },
      "source": [
        "### Разделим данные\n",
        "\n",
        "Поскольку мы не знаем метку (Цена) тестовых данных, для оценки модели, чтобы получить лучшую модель перед прогнозированием тестовых данных, разделим данные в файле train.scv на обучающие и проверочные данные, соотношение составляет 20%."
      ]
    },
    {
      "cell_type": "code",
      "metadata": {
        "id": "eKJl0zfeQ4ld"
      },
      "source": [
        "# Разделим данные в файле train.scv на обучающие и проверочные с соотношением 20%\n",
        "X = train_edited.drop('SalePrice', axis=1)\n",
        "y = train_edited['SalePrice']\n",
        "\n",
        "X_train, X_val, y_train, y_val = train_test_split(X, y, test_size = 0.2)\n"
      ],
      "execution_count": 92,
      "outputs": []
    },
    {
      "cell_type": "code",
      "metadata": {
        "colab": {
          "base_uri": "https://localhost:8080/"
        },
        "id": "VTrwV--EQ4le",
        "outputId": "e7d01fff-9259-401d-b9e4-9b708742a4a7"
      },
      "source": [
        "X_train.shape, test_edited.shape"
      ],
      "execution_count": 93,
      "outputs": [
        {
          "output_type": "execute_result",
          "data": {
            "text/plain": [
              "((1168, 75), (1459, 75))"
            ]
          },
          "metadata": {},
          "execution_count": 93
        }
      ]
    },
    {
      "cell_type": "markdown",
      "metadata": {
        "id": "QNaHH0kWQ4lf"
      },
      "source": [
        "## Моделирование"
      ]
    },
    {
      "cell_type": "markdown",
      "metadata": {
        "id": "E-vMK08lQ4lf"
      },
      "source": [
        "### Построение и обучение модели"
      ]
    },
    {
      "cell_type": "markdown",
      "metadata": {
        "id": "NYDVctDUQ4lg"
      },
      "source": [
        "\n",
        "Создайте последовательную модель нейронной сети с помощью фрэймворков тренировки нейронных сетей как: Torch или Tensorflow. "
      ]
    },
    {
      "cell_type": "code",
      "metadata": {
        "id": "JQF0TvHYQ4lg"
      },
      "source": [
        "# Создание последовательной модели нейронной сети \n",
        "model = keras.Sequential([\n",
        "    layers.Dense(150, activation='relu'),\n",
        "    layers.Dense(100, activation='relu'),\n",
        "    layers.Dense(1)\n",
        "])"
      ],
      "execution_count": 94,
      "outputs": []
    },
    {
      "cell_type": "markdown",
      "metadata": {
        "id": "tmKTpTZ4Q4lh"
      },
      "source": [
        "Скомпилируйте нейронную сеть, выбрав функцию потерь и оптимизатор соответственно."
      ]
    },
    {
      "cell_type": "code",
      "metadata": {
        "id": "UajojdHGQ4lh"
      },
      "source": [
        "# Скомпилировали нейронную сеть, выбрав функцию потерь и оптимизатор\n",
        "model.compile(loss='mean_squared_error', optimizer=tf.keras.optimizers.Adam(0.01), metrics=['mae'])"
      ],
      "execution_count": 95,
      "outputs": []
    },
    {
      "cell_type": "markdown",
      "metadata": {
        "id": "LJa08dpHQ4lh"
      },
      "source": [
        "Обучите модель на обучающих данных `X_train` и `y_train` задав гиперпараметры вашей модели нейронной сети, например количество эпох (epochs), размер мини-выборки (batch_size) и другие."
      ]
    },
    {
      "cell_type": "code",
      "metadata": {
        "id": "IyxsL5-uQ4li",
        "colab": {
          "base_uri": "https://localhost:8080/"
        },
        "outputId": "724969c3-9aa1-46e4-955e-32a33f4b1619"
      },
      "source": [
        "# Обучили модель, задав гиперпараметры (количество эпох, размер мини - выборки)\n",
        "history = model.fit(X, y, validation_split=0.2, verbose=1, epochs=40, batch_size=100)"
      ],
      "execution_count": 96,
      "outputs": [
        {
          "output_type": "stream",
          "name": "stdout",
          "text": [
            "Epoch 1/40\n",
            "12/12 [==============================] - 1s 22ms/step - loss: 25149247488.0000 - mae: 133250.0000 - val_loss: 6594354176.0000 - val_mae: 52121.3281\n",
            "Epoch 2/40\n",
            "12/12 [==============================] - 0s 4ms/step - loss: 9089185792.0000 - mae: 51123.8125 - val_loss: 5165691392.0000 - val_mae: 44769.3281\n",
            "Epoch 3/40\n",
            "12/12 [==============================] - 0s 4ms/step - loss: 4400100864.0000 - mae: 43442.2188 - val_loss: 4255990528.0000 - val_mae: 44985.2461\n",
            "Epoch 4/40\n",
            "12/12 [==============================] - 0s 4ms/step - loss: 3227517952.0000 - mae: 39801.1797 - val_loss: 3798822400.0000 - val_mae: 40268.5859\n",
            "Epoch 5/40\n",
            "12/12 [==============================] - 0s 4ms/step - loss: 2843216384.0000 - mae: 37669.3750 - val_loss: 3556399872.0000 - val_mae: 38830.3750\n",
            "Epoch 6/40\n",
            "12/12 [==============================] - 0s 5ms/step - loss: 2466062592.0000 - mae: 35191.1719 - val_loss: 3381401088.0000 - val_mae: 36103.2812\n",
            "Epoch 7/40\n",
            "12/12 [==============================] - 0s 4ms/step - loss: 2129504128.0000 - mae: 31200.2324 - val_loss: 3472544000.0000 - val_mae: 35151.4180\n",
            "Epoch 8/40\n",
            "12/12 [==============================] - 0s 4ms/step - loss: 1882322304.0000 - mae: 29408.1875 - val_loss: 3693269760.0000 - val_mae: 33789.2734\n",
            "Epoch 9/40\n",
            "12/12 [==============================] - 0s 6ms/step - loss: 1716818304.0000 - mae: 27853.9043 - val_loss: 3568352256.0000 - val_mae: 30515.4902\n",
            "Epoch 10/40\n",
            "12/12 [==============================] - 0s 5ms/step - loss: 1655310848.0000 - mae: 27284.0000 - val_loss: 3905495808.0000 - val_mae: 31152.0371\n",
            "Epoch 11/40\n",
            "12/12 [==============================] - 0s 4ms/step - loss: 1580684928.0000 - mae: 26597.1426 - val_loss: 3820064256.0000 - val_mae: 30136.0000\n",
            "Epoch 12/40\n",
            "12/12 [==============================] - 0s 5ms/step - loss: 1599340032.0000 - mae: 26752.5781 - val_loss: 4025021440.0000 - val_mae: 30561.2422\n",
            "Epoch 13/40\n",
            "12/12 [==============================] - 0s 5ms/step - loss: 1544887296.0000 - mae: 26104.8184 - val_loss: 3940700672.0000 - val_mae: 30254.3320\n",
            "Epoch 14/40\n",
            "12/12 [==============================] - 0s 5ms/step - loss: 1572882560.0000 - mae: 26257.4668 - val_loss: 4441061888.0000 - val_mae: 33434.7773\n",
            "Epoch 15/40\n",
            "12/12 [==============================] - 0s 4ms/step - loss: 1585863168.0000 - mae: 26580.6211 - val_loss: 4155939328.0000 - val_mae: 30870.2637\n",
            "Epoch 16/40\n",
            "12/12 [==============================] - 0s 4ms/step - loss: 1558873216.0000 - mae: 26128.2852 - val_loss: 3976893696.0000 - val_mae: 30043.8965\n",
            "Epoch 17/40\n",
            "12/12 [==============================] - 0s 4ms/step - loss: 1515012352.0000 - mae: 25415.6699 - val_loss: 3809199104.0000 - val_mae: 30614.4551\n",
            "Epoch 18/40\n",
            "12/12 [==============================] - 0s 4ms/step - loss: 1531994112.0000 - mae: 26428.6016 - val_loss: 3781480960.0000 - val_mae: 29846.2051\n",
            "Epoch 19/40\n",
            "12/12 [==============================] - 0s 4ms/step - loss: 1476278784.0000 - mae: 25183.1035 - val_loss: 3879602432.0000 - val_mae: 29427.7578\n",
            "Epoch 20/40\n",
            "12/12 [==============================] - 0s 5ms/step - loss: 1477924608.0000 - mae: 25493.1289 - val_loss: 3982884864.0000 - val_mae: 29672.5625\n",
            "Epoch 21/40\n",
            "12/12 [==============================] - 0s 5ms/step - loss: 1561404928.0000 - mae: 26170.0352 - val_loss: 3925849600.0000 - val_mae: 29352.0898\n",
            "Epoch 22/40\n",
            "12/12 [==============================] - 0s 6ms/step - loss: 1464889984.0000 - mae: 25470.1758 - val_loss: 4128480256.0000 - val_mae: 29898.9453\n",
            "Epoch 23/40\n",
            "12/12 [==============================] - 0s 6ms/step - loss: 1472826368.0000 - mae: 24935.6035 - val_loss: 3870444800.0000 - val_mae: 29339.7949\n",
            "Epoch 24/40\n",
            "12/12 [==============================] - 0s 5ms/step - loss: 1566506240.0000 - mae: 25661.1504 - val_loss: 4484013056.0000 - val_mae: 33264.9297\n",
            "Epoch 25/40\n",
            "12/12 [==============================] - 0s 4ms/step - loss: 1480499200.0000 - mae: 25608.0215 - val_loss: 4014406400.0000 - val_mae: 29227.2500\n",
            "Epoch 26/40\n",
            "12/12 [==============================] - 0s 5ms/step - loss: 1427411456.0000 - mae: 24893.6426 - val_loss: 3856420608.0000 - val_mae: 28965.9375\n",
            "Epoch 27/40\n",
            "12/12 [==============================] - 0s 4ms/step - loss: 1429376640.0000 - mae: 24439.0352 - val_loss: 4033442304.0000 - val_mae: 29997.0215\n",
            "Epoch 28/40\n",
            "12/12 [==============================] - 0s 4ms/step - loss: 1451577984.0000 - mae: 24549.9766 - val_loss: 3954985472.0000 - val_mae: 28918.8809\n",
            "Epoch 29/40\n",
            "12/12 [==============================] - 0s 5ms/step - loss: 1546053248.0000 - mae: 26646.2754 - val_loss: 3817329152.0000 - val_mae: 29218.8535\n",
            "Epoch 30/40\n",
            "12/12 [==============================] - 0s 4ms/step - loss: 1468764800.0000 - mae: 24723.4922 - val_loss: 3671192576.0000 - val_mae: 29707.3965\n",
            "Epoch 31/40\n",
            "12/12 [==============================] - 0s 4ms/step - loss: 1424315648.0000 - mae: 25065.2285 - val_loss: 3756808448.0000 - val_mae: 28713.0840\n",
            "Epoch 32/40\n",
            "12/12 [==============================] - 0s 4ms/step - loss: 1421523328.0000 - mae: 24662.7090 - val_loss: 3778035456.0000 - val_mae: 28614.3984\n",
            "Epoch 33/40\n",
            "12/12 [==============================] - 0s 5ms/step - loss: 1409204096.0000 - mae: 24195.4258 - val_loss: 3934079488.0000 - val_mae: 28751.9590\n",
            "Epoch 34/40\n",
            "12/12 [==============================] - 0s 4ms/step - loss: 1389347840.0000 - mae: 23936.5293 - val_loss: 3890603776.0000 - val_mae: 28894.1133\n",
            "Epoch 35/40\n",
            "12/12 [==============================] - 0s 4ms/step - loss: 1437709440.0000 - mae: 24959.2012 - val_loss: 3716132352.0000 - val_mae: 28614.1895\n",
            "Epoch 36/40\n",
            "12/12 [==============================] - 0s 6ms/step - loss: 1388603776.0000 - mae: 24125.0488 - val_loss: 3721311488.0000 - val_mae: 29091.0684\n",
            "Epoch 37/40\n",
            "12/12 [==============================] - 0s 5ms/step - loss: 1384645504.0000 - mae: 24351.1562 - val_loss: 3813237248.0000 - val_mae: 28846.0000\n",
            "Epoch 38/40\n",
            "12/12 [==============================] - 0s 6ms/step - loss: 1366191360.0000 - mae: 23911.2168 - val_loss: 3813244416.0000 - val_mae: 28428.4453\n",
            "Epoch 39/40\n",
            "12/12 [==============================] - 0s 4ms/step - loss: 1374868608.0000 - mae: 23961.4492 - val_loss: 3794319872.0000 - val_mae: 28627.8926\n",
            "Epoch 40/40\n",
            "12/12 [==============================] - 0s 4ms/step - loss: 1382305152.0000 - mae: 24167.0273 - val_loss: 3817989632.0000 - val_mae: 28383.5859\n"
          ]
        }
      ]
    },
    {
      "cell_type": "markdown",
      "metadata": {
        "id": "ZLmYIMDlQ4li"
      },
      "source": [
        "**Оцените полученные результаты**"
      ]
    },
    {
      "cell_type": "code",
      "metadata": {
        "id": "s6aKc0gzQ4lj",
        "colab": {
          "base_uri": "https://localhost:8080/",
          "height": 327
        },
        "outputId": "bbe46611-1bb9-4d0d-d1a5-6329156e8294"
      },
      "source": [
        "# Оценка полученных результатов\n",
        "pd.DataFrame(history.history).plot()\n",
        "plt.ylabel('accuracy')\n",
        "plt.xlabel('epoch')\n",
        "print(history.history)"
      ],
      "execution_count": 97,
      "outputs": [
        {
          "output_type": "stream",
          "name": "stdout",
          "text": [
            "{'loss': [25149247488.0, 9089185792.0, 4400100864.0, 3227517952.0, 2843216384.0, 2466062592.0, 2129504128.0, 1882322304.0, 1716818304.0, 1655310848.0, 1580684928.0, 1599340032.0, 1544887296.0, 1572882560.0, 1585863168.0, 1558873216.0, 1515012352.0, 1531994112.0, 1476278784.0, 1477924608.0, 1561404928.0, 1464889984.0, 1472826368.0, 1566506240.0, 1480499200.0, 1427411456.0, 1429376640.0, 1451577984.0, 1546053248.0, 1468764800.0, 1424315648.0, 1421523328.0, 1409204096.0, 1389347840.0, 1437709440.0, 1388603776.0, 1384645504.0, 1366191360.0, 1374868608.0, 1382305152.0], 'mae': [133250.0, 51123.8125, 43442.21875, 39801.1796875, 37669.375, 35191.171875, 31200.232421875, 29408.1875, 27853.904296875, 27284.0, 26597.142578125, 26752.578125, 26104.818359375, 26257.466796875, 26580.62109375, 26128.28515625, 25415.669921875, 26428.6015625, 25183.103515625, 25493.12890625, 26170.03515625, 25470.17578125, 24935.603515625, 25661.150390625, 25608.021484375, 24893.642578125, 24439.03515625, 24549.9765625, 26646.275390625, 24723.4921875, 25065.228515625, 24662.708984375, 24195.42578125, 23936.529296875, 24959.201171875, 24125.048828125, 24351.15625, 23911.216796875, 23961.44921875, 24167.02734375], 'val_loss': [6594354176.0, 5165691392.0, 4255990528.0, 3798822400.0, 3556399872.0, 3381401088.0, 3472544000.0, 3693269760.0, 3568352256.0, 3905495808.0, 3820064256.0, 4025021440.0, 3940700672.0, 4441061888.0, 4155939328.0, 3976893696.0, 3809199104.0, 3781480960.0, 3879602432.0, 3982884864.0, 3925849600.0, 4128480256.0, 3870444800.0, 4484013056.0, 4014406400.0, 3856420608.0, 4033442304.0, 3954985472.0, 3817329152.0, 3671192576.0, 3756808448.0, 3778035456.0, 3934079488.0, 3890603776.0, 3716132352.0, 3721311488.0, 3813237248.0, 3813244416.0, 3794319872.0, 3817989632.0], 'val_mae': [52121.328125, 44769.328125, 44985.24609375, 40268.5859375, 38830.375, 36103.28125, 35151.41796875, 33789.2734375, 30515.490234375, 31152.037109375, 30136.0, 30561.2421875, 30254.33203125, 33434.77734375, 30870.263671875, 30043.896484375, 30614.455078125, 29846.205078125, 29427.7578125, 29672.5625, 29352.08984375, 29898.9453125, 29339.794921875, 33264.9296875, 29227.25, 28965.9375, 29997.021484375, 28918.880859375, 29218.853515625, 29707.396484375, 28713.083984375, 28614.3984375, 28751.958984375, 28894.11328125, 28614.189453125, 29091.068359375, 28846.0, 28428.4453125, 28627.892578125, 28383.5859375]}\n"
          ]
        },
        {
          "output_type": "display_data",
          "data": {
            "image/png": "[encoded data removed]",
            "text/plain": [
              "<Figure size 432x288 with 1 Axes>"
            ]
          },
          "metadata": {
            "needs_background": "light"
          }
        }
      ]
    },
    {
      "cell_type": "code",
      "metadata": {
        "id": "LliqSq9HQ4lj",
        "colab": {
          "base_uri": "https://localhost:8080/"
        },
        "outputId": "fc54dbb8-512e-49c6-8672-c00e56028613"
      },
      "source": [
        "scores = model.evaluate(X_val, y_val, verbose=1)"
      ],
      "execution_count": 81,
      "outputs": [
        {
          "output_type": "stream",
          "name": "stdout",
          "text": [
            "10/10 [==============================] - 0s 2ms/step - loss: 1251861248.0000 - mae: 24653.3945\n"
          ]
        }
      ]
    },
    {
      "cell_type": "markdown",
      "metadata": {
        "id": "Jm633l23Q4lj"
      },
      "source": [
        "### Предсказание"
      ]
    },
    {
      "cell_type": "code",
      "metadata": {
        "id": "hwSwKfWMQ4lk",
        "colab": {
          "base_uri": "https://localhost:8080/"
        },
        "outputId": "b91aa02f-f67a-44f1-caf7-170c82c445ce"
      },
      "source": [
        "# Предсказание\n",
        "preds = model.predict(test_edited)\n",
        "preds"
      ],
      "execution_count": 98,
      "outputs": [
        {
          "output_type": "execute_result",
          "data": {
            "text/plain": [
              "array([[148246.28],\n",
              "       [190870.55],\n",
              "       [187232.3 ],\n",
              "       ...,\n",
              "       [187638.78],\n",
              "       [101181.27],\n",
              "       [233958.72]], dtype=float32)"
            ]
          },
          "metadata": {},
          "execution_count": 98
        }
      ]
    },
    {
      "cell_type": "code",
      "metadata": {
        "id": "527EzMWkQ4lk",
        "colab": {
          "base_uri": "https://localhost:8080/",
          "height": 423
        },
        "outputId": "f4e86100-6ce8-4704-b1ff-7e257e4a2be8"
      },
      "source": [
        "output = pd.DataFrame(\n",
        "{\n",
        "    'Id':test_data['Id'],\n",
        "    'SalePrice': np.squeeze(preds)\n",
        "})\n",
        "output"
      ],
      "execution_count": 99,
      "outputs": [
        {
          "output_type": "execute_result",
          "data": {
            "text/html": [
              "<div>\n",
              "<style scoped>\n",
              "    .dataframe tbody tr th:only-of-type {\n",
              "        vertical-align: middle;\n",
              "    }\n",
              "\n",
              "    .dataframe tbody tr th {\n",
              "        vertical-align: top;\n",
              "    }\n",
              "\n",
              "    .dataframe thead th {\n",
              "        text-align: right;\n",
              "    }\n",
              "</style>\n",
              "<table border=\"1\" class=\"dataframe\">\n",
              "  <thead>\n",
              "    <tr style=\"text-align: right;\">\n",
              "      <th></th>\n",
              "      <th>Id</th>\n",
              "      <th>SalePrice</th>\n",
              "    </tr>\n",
              "  </thead>\n",
              "  <tbody>\n",
              "    <tr>\n",
              "      <th>0</th>\n",
              "      <td>1461</td>\n",
              "      <td>148246.281250</td>\n",
              "    </tr>\n",
              "    <tr>\n",
              "      <th>1</th>\n",
              "      <td>1462</td>\n",
              "      <td>190870.546875</td>\n",
              "    </tr>\n",
              "    <tr>\n",
              "      <th>2</th>\n",
              "      <td>1463</td>\n",
              "      <td>187232.296875</td>\n",
              "    </tr>\n",
              "    <tr>\n",
              "      <th>3</th>\n",
              "      <td>1464</td>\n",
              "      <td>186016.718750</td>\n",
              "    </tr>\n",
              "    <tr>\n",
              "      <th>4</th>\n",
              "      <td>1465</td>\n",
              "      <td>174819.343750</td>\n",
              "    </tr>\n",
              "    <tr>\n",
              "      <th>...</th>\n",
              "      <td>...</td>\n",
              "      <td>...</td>\n",
              "    </tr>\n",
              "    <tr>\n",
              "      <th>1454</th>\n",
              "      <td>2915</td>\n",
              "      <td>83726.859375</td>\n",
              "    </tr>\n",
              "    <tr>\n",
              "      <th>1455</th>\n",
              "      <td>2916</td>\n",
              "      <td>103271.210938</td>\n",
              "    </tr>\n",
              "    <tr>\n",
              "      <th>1456</th>\n",
              "      <td>2917</td>\n",
              "      <td>187638.781250</td>\n",
              "    </tr>\n",
              "    <tr>\n",
              "      <th>1457</th>\n",
              "      <td>2918</td>\n",
              "      <td>101181.273438</td>\n",
              "    </tr>\n",
              "    <tr>\n",
              "      <th>1458</th>\n",
              "      <td>2919</td>\n",
              "      <td>233958.718750</td>\n",
              "    </tr>\n",
              "  </tbody>\n",
              "</table>\n",
              "<p>1459 rows × 2 columns</p>\n",
              "</div>"
            ],
            "text/plain": [
              "        Id      SalePrice\n",
              "0     1461  148246.281250\n",
              "1     1462  190870.546875\n",
              "2     1463  187232.296875\n",
              "3     1464  186016.718750\n",
              "4     1465  174819.343750\n",
              "...    ...            ...\n",
              "1454  2915   83726.859375\n",
              "1455  2916  103271.210938\n",
              "1456  2917  187638.781250\n",
              "1457  2918  101181.273438\n",
              "1458  2919  233958.718750\n",
              "\n",
              "[1459 rows x 2 columns]"
            ]
          },
          "metadata": {},
          "execution_count": 99
        }
      ]
    },
    {
      "cell_type": "markdown",
      "metadata": {
        "id": "7mbn1M7HQ4ll"
      },
      "source": [
        "\n",
        "**При выполнении:**\n",
        "\n",
        "Выведите отчет нейросетевой регрессионной модели, для  прогнозирование цен на жилье. \n",
        "\n",
        "Подберить разные комбинации гиперпараметров таким образом, чтобы получить лучший результат на тестовом наборе данных.\n",
        "\n",
        "Попробуйте использовать разное количество нейронов на входном слое, например 100, 150, 200 300.\n",
        "\n",
        "Добавьте в нейронную сеть скрытый слой с разным количеством нейронов.\n",
        "\n",
        "Используйте разное количество эпох: 10, 15, 20, 25, 30.\n",
        "\n",
        "Используйте разные размеры мини-выборки (batch_size): 10, 50, 100, 200.\n",
        "\n",
        "Попробуйте использовать разные значения оптимизатора `optimizers` и функции потерь `loss`. Сравните полученые результаты.\n",
        "\n",
        "**Вопросы:**\n",
        "\n",
        "Как выше перечисленные параметры влияют на полученный вами результат? \n",
        "\n",
        "Что такое эпоха (Epoch)? В чем отличие от итерации (Iteration)?\n",
        "\n",
        "Что такое функция активации? Какие вам известны?\n",
        "\n",
        "Что такое MSE(Mean Squared Error) - Средняя квадратичная ошибка? Что такое MAE(Mean Absolute Error)? Для чего используются."
      ]
    }
  ]
}